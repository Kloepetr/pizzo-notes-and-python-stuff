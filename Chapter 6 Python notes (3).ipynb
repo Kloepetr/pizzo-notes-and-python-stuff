{
 "cells": [
  {
   "attachments": {},
   "cell_type": "markdown",
   "metadata": {},
   "source": [
    "# DICTIONARIES\n",
    "---"
   ]
  },
  {
   "attachments": {},
   "cell_type": "markdown",
   "metadata": {},
   "source": [
    "### A Simple Dictionary"
   ]
  },
  {
   "cell_type": "code",
   "execution_count": 1,
   "metadata": {},
   "outputs": [
    {
     "name": "stdout",
     "output_type": "stream",
     "text": [
      "green\n",
      "5\n"
     ]
    }
   ],
   "source": [
    "# simple \n",
    "alien_0 = {'color': 'green', 'points': 5}\n",
    "print(alien_0['color'])\n",
    "print(alien_0['points'])"
   ]
  },
  {
   "attachments": {},
   "cell_type": "markdown",
   "metadata": {},
   "source": [
    "### Working with Dictionaries\n",
    "---\n",
    "- Accessing Values in a Dictionary\n",
    "- Adding New Key-Value Pairs\n",
    "- Starting with an Empty Dictionary\n",
    "- Modifying Values in a Dictionary\n",
    "- Removing Key-Value Pairs\n",
    "- A Dictionary of Similar Objects\n",
    "- Using `get()` to Access Values"
   ]
  },
  {
   "cell_type": "code",
   "execution_count": 2,
   "metadata": {},
   "outputs": [
    {
     "name": "stdout",
     "output_type": "stream",
     "text": [
      "You just earned 5 points\n"
     ]
    }
   ],
   "source": [
    "# Accessing Values in a Dictionary\n",
    "points = alien_0['points']\n",
    "print(f'You just earned {points} points')"
   ]
  },
  {
   "cell_type": "code",
   "execution_count": 3,
   "metadata": {},
   "outputs": [
    {
     "name": "stdout",
     "output_type": "stream",
     "text": [
      "{'color': 'green', 'points': 5}\n",
      "{'color': 'green', 'points': 5, 'x': 0, 'y': 25}\n"
     ]
    }
   ],
   "source": [
    "# Adding New Key-Value Pairs\n",
    "print(alien_0)\n",
    "alien_0['x'] = 0\n",
    "alien_0['y'] = 25\n",
    "print(alien_0)"
   ]
  },
  {
   "cell_type": "code",
   "execution_count": 4,
   "metadata": {},
   "outputs": [
    {
     "name": "stdout",
     "output_type": "stream",
     "text": [
      "{'color': 'green', 'points': 5}\n"
     ]
    }
   ],
   "source": [
    "# Starting with an Empty Dictionary\n",
    "alien_0 = {}\n",
    "alien_0['color'] = 'green'\n",
    "alien_0['points'] = 5\n",
    "print(alien_0)"
   ]
  },
  {
   "cell_type": "code",
   "execution_count": 8,
   "metadata": {},
   "outputs": [
    {
     "name": "stdout",
     "output_type": "stream",
     "text": [
      "the alien is green.\n",
      "the alien is now yellow.\n",
      "position: 0\n",
      "position: 2\n"
     ]
    }
   ],
   "source": [
    "# Modifying Values in a Dictionary\n",
    "alien_0 = {'color': 'green'}\n",
    "print(f\"the alien is {alien_0['color']}.\")\n",
    "alien_0['color'] = 'yellow'\n",
    "print(f\"the alien is now {alien_0['color']}.\")\n",
    "\n",
    "alien_0 = {'x': 0, 'y': 25, 'speed': 'medium'}\n",
    "print(f\"position: {alien_0['x']}\")\n",
    "if alien_0['speed'] == 'slow':\n",
    "    x_inc = 1\n",
    "elif alien_0['speed'] == 'medium':\n",
    "    x_inc = 2\n",
    "else:\n",
    "    x_inc = 3\n",
    "\n",
    "alien_0['x'] = alien_0['x'] + x_inc\n",
    "\n",
    "print(f\"position: {alien_0['x']}\")"
   ]
  },
  {
   "cell_type": "code",
   "execution_count": 9,
   "metadata": {},
   "outputs": [
    {
     "name": "stdout",
     "output_type": "stream",
     "text": [
      "{'color': 'green', 'points': 5}\n",
      "{'color': 'green'}\n"
     ]
    }
   ],
   "source": [
    "# Removing Key-Value Pairs.\n",
    "alien_0 = {'color': 'green', 'points': 5}\n",
    "print(alien_0)\n",
    "del alien_0['points']\n",
    "print(alien_0)"
   ]
  },
  {
   "cell_type": "code",
   "execution_count": 10,
   "metadata": {},
   "outputs": [
    {
     "name": "stdout",
     "output_type": "stream",
     "text": [
      "Leo's favorite language is Python\n"
     ]
    }
   ],
   "source": [
    "# A Dictionary of Similar Objects\n",
    "fav_langs = {\n",
    "    'leo': 'python',\n",
    "    'hazel': 'c',\n",
    "    'kennan': 'rust',\n",
    "    'cam': 'javascript',\n",
    "    'matt': 'c#', \n",
    "    }\n",
    "language = fav_langs['leo'].title()\n",
    "print(f\"Leo's favorite language is {language}\")"
   ]
  },
  {
   "cell_type": "code",
   "execution_count": 13,
   "metadata": {},
   "outputs": [
    {
     "name": "stdout",
     "output_type": "stream",
     "text": [
      "No points assigned\n"
     ]
    }
   ],
   "source": [
    "# Using get() to Access Values\n",
    "alien_0 = {'color': 'green', 'speed': 'slow'}\n",
    "# print(alien_0['points'])\n",
    "point_value = alien_0.get('points', 'No points assigned')\n",
    "print(point_value)"
   ]
  },
  {
   "attachments": {},
   "cell_type": "markdown",
   "metadata": {},
   "source": [
    "### TRY IT YOURSELF\n",
    "---"
   ]
  },
  {
   "attachments": {},
   "cell_type": "markdown",
   "metadata": {},
   "source": [
    "**6-1. Person:**   \n",
    "Use a dictionary to store information about a person you know. Store their first name, last name, age, and the city in which they live. You should have keys such as `first_name`, `last_name`, `age`, and `city`. Print each piece of information stored in your dictionary."
   ]
  },
  {
   "cell_type": "code",
   "execution_count": 4,
   "metadata": {},
   "outputs": [
    {
     "name": "stdout",
     "output_type": "stream",
     "text": [
      "Seth's age is 60\n"
     ]
    }
   ],
   "source": [
    "# code\n",
    "person_info = {\n",
    "    'first name' : 'Seth',\n",
    "    'last name' : 'Pizzo',\n",
    "    'age': '60',\n",
    "    'city' : 'bloomington',\n",
    "}\n",
    "x = person_info['age'].title()\n",
    "print(f\"Seth's age is {x}\")"
   ]
  },
  {
   "attachments": {},
   "cell_type": "markdown",
   "metadata": {},
   "source": [
    "**6-2. Favorite Numbers:**   \n",
    "Use a dictionary to store people’s favorite numbers. Think of five names, and use them as keys in your dictionary. Think of a favorite number for each person, and store each as a value in your dictionary. Print each person’s name and their favorite number. For even more fun, poll a few friends and get some actual data for your program."
   ]
  },
  {
   "cell_type": "code",
   "execution_count": 6,
   "metadata": {},
   "outputs": [
    {
     "name": "stdout",
     "output_type": "stream",
     "text": [
      "hazel's favorite_number is 42\n",
      "bob's favorite_number is 7\n",
      "frank's favorite_number is 15\n",
      "David's favorite_number is 23\n",
      "stan's favorite_number is 8\n"
     ]
    }
   ],
   "source": [
    "# code\n",
    "favorite_numbers = {'hazel' : 42, 'bob' : 7, 'frank' : 15, 'David' : 23, 'stan' : 8}\n",
    "for name, number in favorite_numbers.items():\n",
    "    print(name + \"'s favorite_number is\", number)\n",
    "    \n",
    "\n",
    "\n"
   ]
  },
  {
   "attachments": {},
   "cell_type": "markdown",
   "metadata": {},
   "source": [
    "**6-3. Glossary:**    \n",
    "A Python dictionary can be used to model an actual dictionary.\n",
    "However, to avoid confusion, let’s call it a glossary.\n",
    "- Think of five programming words you’ve learned about in the previous chapters. Use these words as the keys in your glossary, and store their meanings as values.\n",
    "- Print each word and its meaning as neatly formatted output. You might print the word followed by a colon and then its meaning, or print the word on one line and then print its meaning indented on a second line. Use the newline character (`\\n`) to insert a blank line between each word-meaning pair in your output."
   ]
  },
  {
   "cell_type": "code",
   "execution_count": 12,
   "metadata": {},
   "outputs": [
    {
     "name": "stdout",
     "output_type": "stream",
     "text": [
      "variable: storage location\n",
      "\n",
      "function: performs task\n",
      "\n",
      "loop: instruction repetition\n",
      "\n",
      "conditional: execute conditions\n",
      "\n",
      "list: collection of types\n",
      "\n"
     ]
    }
   ],
   "source": [
    "# code\n",
    "glossary = {\n",
    "    \"variable\": \"storage location\",\n",
    "    \"function\": \"performs task\",\n",
    "    \"loop\": \"instruction repetition\",\n",
    "    \"conditional\": \"execute conditions\",\n",
    "    \"list\": \"collection of types\"\n",
    "}\n",
    "\n",
    "for key, value in glossary.items():\n",
    "    print(f\"{key}: {value}\\n\")"
   ]
  },
  {
   "attachments": {},
   "cell_type": "markdown",
   "metadata": {},
   "source": [
    "# Looping Through a Dictionary\n",
    "---\n",
    "- Looping Through All Key-Value Pairs\n",
    "- Looping Through All the Keys in a Dictionary\n",
    "- Looping Through a Dictionary’s Keys in a Particular Order\n",
    "- Looping Through All Values in a Dictionary"
   ]
  },
  {
   "cell_type": "code",
   "execution_count": 14,
   "metadata": {},
   "outputs": [
    {
     "name": "stdout",
     "output_type": "stream",
     "text": [
      "\n",
      "Key: username\n",
      "Value: Kettekie0\n",
      "\n",
      "Key: first\n",
      "Value: Kiefer\n",
      "\n",
      "Key: last\n",
      "Value: Kettenis\n",
      "Leo's favorite language is Python.\n",
      "Hazel's favorite language is C.\n",
      "Kennan's favorite language is Rust.\n",
      "Cam's favorite language is Javascript.\n",
      "Matt's favorite language is C#.\n"
     ]
    }
   ],
   "source": [
    "# Looping Through All Key-Value Pairs\n",
    "fav_langs = {\n",
    "    'leo': 'python',\n",
    "    'hazel': 'c',\n",
    "    'kennan': 'rust',\n",
    "    'cam': 'javascript',\n",
    "    'matt': 'c#', \n",
    "    }\n",
    "user_0 = {\n",
    "    'username': 'kettekie0',\n",
    "    'first': 'kiefer',\n",
    "    'last': 'kettenis',   \n",
    "}\n",
    "\n",
    "for key, value in user_0.items():\n",
    "    print(f\"\\nKey: {key}\")\n",
    "    print(f\"Value: {value.title()}\")\n",
    "\n",
    "for name, language in fav_langs.items():\n",
    "    print(f\"{name.title()}'s favorite language is {language.title()}.\")"
   ]
  },
  {
   "cell_type": "code",
   "execution_count": 19,
   "metadata": {},
   "outputs": [
    {
     "name": "stdout",
     "output_type": "stream",
     "text": [
      "Leo\n",
      "Hazel\n",
      "Kennan\n",
      "Cam\n",
      "Matt\n"
     ]
    }
   ],
   "source": [
    "# Looping Through All the Keys in a Dictionary\n",
    "for name in fav_langs.keys():\n",
    "    print(name.title())"
   ]
  },
  {
   "cell_type": "code",
   "execution_count": 20,
   "metadata": {},
   "outputs": [
    {
     "name": "stdout",
     "output_type": "stream",
     "text": [
      "Cam\n",
      "Hazel\n",
      "Kennan\n",
      "Leo\n",
      "Matt\n"
     ]
    }
   ],
   "source": [
    "# Looping Through a Dictionary’s Keys in a Particular Order\n",
    "for name in sorted(fav_langs.keys()):\n",
    "    print(name.title())"
   ]
  },
  {
   "cell_type": "code",
   "execution_count": 21,
   "metadata": {},
   "outputs": [
    {
     "name": "stdout",
     "output_type": "stream",
     "text": [
      "Python\n",
      "C\n",
      "Rust\n",
      "Javascript\n",
      "C#\n"
     ]
    }
   ],
   "source": [
    "# Looping Through All Values in a Dictionary\n",
    "for language in fav_langs.values():\n",
    "    print(language.title())"
   ]
  },
  {
   "attachments": {},
   "cell_type": "markdown",
   "metadata": {},
   "source": [
    "### TRY IT YOURSELF\n",
    "---"
   ]
  },
  {
   "attachments": {},
   "cell_type": "markdown",
   "metadata": {},
   "source": [
    "**6-4. Glossary 2:**    \n",
    "Now that you know how to loop through a dictionary, clean up the code from Exercise 6-3 by replacing your series of `print()` calls with a loop that runs through the dictionary’s keys and values. When you’re sure that your loop works, add five more Python terms to your glossary. When you run your program again, these new words and meanings should automatically be included in the output."
   ]
  },
  {
   "cell_type": "code",
   "execution_count": 18,
   "metadata": {},
   "outputs": [
    {
     "name": "stdout",
     "output_type": "stream",
     "text": [
      "Class\n",
      "Conditional\n",
      "Dictionary\n",
      "Exception\n",
      "Function\n",
      "List\n",
      "Loop\n",
      "Module\n",
      "Tuple\n",
      "Variable\n",
      "Storage Location\n",
      "Performs Task\n",
      "Instruction Repetition\n",
      "Execute Conditions\n",
      "Collection Of Types\n",
      "Creating Object Using Methods\n",
      "Import In Other Files\n",
      "Error During Execution\n",
      "Ordered Element\n",
      "Key Value Pairs\n"
     ]
    }
   ],
   "source": [
    "# code\n",
    "glossary = {\n",
    "    \"variable\": \"storage location\",\n",
    "    \"function\": \"performs task\",\n",
    "    \"loop\": \"instruction repetition\",\n",
    "    \"conditional\": \"execute conditions\",\n",
    "    \"list\": \"collection of types\",\n",
    "    \"class\": \"creating object using methods\",\n",
    "    \"module\": \"import in other files\",\n",
    "    \"exception\": \"error during execution\",\n",
    "    \"tuple\": \"ordered element\",\n",
    "    \"dictionary\": \"key value pairs\"\n",
    "}\n",
    "\n",
    "for name in sorted(glossary.keys()):\n",
    "    print(name.title())\n",
    "\n",
    "for term in glossary.values():\n",
    "    print(term.title())"
   ]
  },
  {
   "attachments": {},
   "cell_type": "markdown",
   "metadata": {},
   "source": [
    "**6-5. Rivers:**    \n",
    "Make a dictionary containing three major rivers and the country each river runs through. One key-value pair might be `'nile': 'egypt'`.\n",
    "- Use a loop to print a sentence about each river, such as *The Nile runs through Egypt*.\n",
    "- Use a loop to print the name of each river included in the dictionary.\n",
    "- Use a loop to print the name of each country included in the dictionary."
   ]
  },
  {
   "cell_type": "code",
   "execution_count": 19,
   "metadata": {},
   "outputs": [
    {
     "name": "stdout",
     "output_type": "stream",
     "text": [
      "The Nile runs through Egypt.\n",
      "The Amazon runs through Brazil.\n",
      "The Yangtze runs through China.\n",
      "\n",
      "Rivers:\n",
      "Nile\n",
      "Amazon\n",
      "Yangtze\n",
      "\n",
      "Countries:\n",
      "Egypt\n",
      "Brazil\n",
      "China\n"
     ]
    }
   ],
   "source": [
    "# code\n",
    "rivers = {\n",
    "    \"Nile\": \"Egypt\",\n",
    "    \"Amazon\": \"Brazil\",\n",
    "    \"Yangtze\": \"China\"\n",
    "}\n",
    "\n",
    "# Print a sentence about each river\n",
    "for river, country in rivers.items():\n",
    "    print(f\"The {river} runs through {country}.\")\n",
    "\n",
    "# Print the name of each river\n",
    "print(\"\\nRivers:\")\n",
    "for river in rivers.keys():\n",
    "    print(river)\n",
    "\n",
    "# Print the name of each country\n",
    "print(\"\\nCountries:\")\n",
    "for country in rivers.values():\n",
    "    print(country)\n"
   ]
  },
  {
   "cell_type": "code",
   "execution_count": null,
   "metadata": {},
   "outputs": [],
   "source": []
  },
  {
   "attachments": {},
   "cell_type": "markdown",
   "metadata": {},
   "source": [
    "**6-6. Polling:**    \n",
    "Use the code in favorite_languages.py.\n",
    "- Make a list of people who should take the favorite languages poll. Include some names that are already in the dictionary and some that are not.\n",
    "- Loop through the list of people who should take the poll. If they have already taken the poll, print a message thanking them for responding. If they have not yet taken the poll, print a message inviting them to take the poll."
   ]
  },
  {
   "cell_type": "code",
   "execution_count": 22,
   "metadata": {},
   "outputs": [
    {
     "name": "stdout",
     "output_type": "stream",
     "text": [
      "Thank you, Caden, for responding to the poll!\n",
      "Thank you, Noah, for responding to the poll!\n",
      "Thank you, Edward, for responding to the poll!\n",
      "Thank you, Luke, for responding to the poll!\n",
      "Bob, we would like to invite you to take the favorite languages poll.\n"
     ]
    }
   ],
   "source": [
    "# code\n",
    "favorite_languages = {\n",
    "    'caden': 'python',\n",
    "    'noah': 'c',\n",
    "    'edward': 'ruby',\n",
    "    'luke': 'python',\n",
    "}\n",
    "\n",
    "people_to_poll = ['caden', 'noah', 'edward', 'luke', 'bob']\n",
    "\n",
    "for name in people_to_poll:\n",
    "    if name in favorite_languages:\n",
    "        print(f\"Thank you, {name.title()}, for responding to the poll!\")\n",
    "    else:\n",
    "        print(f\"{name.title()}, we would like to invite you to take the favorite languages poll!\")"
   ]
  },
  {
   "attachments": {},
   "cell_type": "markdown",
   "metadata": {},
   "source": [
    "### Nesting\n",
    "---\n",
    "- A List of Dictionaries\n",
    "- A List in a Dictionary\n",
    "- A Dictionary in a Dictionary"
   ]
  },
  {
   "cell_type": "code",
   "execution_count": null,
   "metadata": {},
   "outputs": [],
   "source": [
    "# A List of Dictionaries"
   ]
  },
  {
   "cell_type": "code",
   "execution_count": null,
   "metadata": {},
   "outputs": [],
   "source": [
    "# A List in a Dictionary"
   ]
  },
  {
   "cell_type": "code",
   "execution_count": null,
   "metadata": {},
   "outputs": [],
   "source": [
    "# A Dictionary in a Dictionary"
   ]
  },
  {
   "attachments": {},
   "cell_type": "markdown",
   "metadata": {},
   "source": [
    "### TRY IT YOURSELF\n",
    "---"
   ]
  },
  {
   "attachments": {},
   "cell_type": "markdown",
   "metadata": {},
   "source": [
    "**6-7. People:** \n",
    "Start with the program you wrote for Exercise 6-1. Make two new dictionaries representing different people, and store all three dictionaries in a list called people. Loop through your list of people. As you loop through the list, print everything you know about each person."
   ]
  },
  {
   "cell_type": "code",
   "execution_count": 31,
   "metadata": {},
   "outputs": [
    {
     "name": "stdout",
     "output_type": "stream",
     "text": [
      "Seth\n",
      "Pizzo\n",
      "60\n",
      "Bloomington\n",
      "Kennan\n",
      "Hunter\n",
      "16\n",
      "Bloomington\n",
      "Hazel\n",
      "Roeder\n",
      "18\n",
      "Bloomington\n"
     ]
    }
   ],
   "source": [
    "# code\n",
    "seth_pizzo = {\n",
    "    'first name' : 'Seth',\n",
    "    'last name' : 'Pizzo',\n",
    "    'age': '60',\n",
    "    'city' : 'bloomington',\n",
    "}\n",
    "\n",
    "kennan_hunter = {\n",
    "    'first name ': 'kennan',\n",
    "    'last name' : 'hunter',\n",
    "    'age' : '16',\n",
    "    'city' : 'bloomington',       \n",
    "}\n",
    "\n",
    "hazel_roeder = {\n",
    "    'first name' : 'Hazel',\n",
    "    'last name' : 'roeder',\n",
    "    'age' : '18',\n",
    "    'city' : 'bloomington',\n",
    "}\n",
    "\n",
    "people = [seth_pizzo, kennan_hunter, hazel_roeder]\n",
    "for people in seth_pizzo.values():\n",
    "    print(people.title())\n",
    "for people in kennan_hunter.values():\n",
    "    print(people.title())\n",
    "for people in hazel_roeder.values():\n",
    "    print(people.title())\n"
   ]
  },
  {
   "attachments": {},
   "cell_type": "markdown",
   "metadata": {},
   "source": [
    "**6-8. Pets:** \n",
    "Make several dictionaries, where each dictionary represents a different pet. In each dictionary, include the kind of animal and the owner’s name. Store these dictionaries in a list called pets. Next, loop through your list and as you do, print everything you know about each pet."
   ]
  },
  {
   "cell_type": "code",
   "execution_count": 32,
   "metadata": {},
   "outputs": [
    {
     "name": "stdout",
     "output_type": "stream",
     "text": [
      "Kloe\n",
      "Mcnab\n",
      "Owen\n",
      "Poodle\n"
     ]
    }
   ],
   "source": [
    "# code\n",
    "cat = {\n",
    "    ' owner' : 'kloe',\n",
    "    'kind' : 'mcnab',\n",
    "}\n",
    "\n",
    "dog = {\n",
    "    'owner' : 'owen',\n",
    "    'kind' : 'poodle',\n",
    "}\n",
    "\n",
    "pets = [cat, dog]\n",
    "\n",
    "for pets in cat.values():\n",
    "    print(pets.title())\n",
    "for pets in dog.values():\n",
    "    print(pets.title())"
   ]
  },
  {
   "attachments": {},
   "cell_type": "markdown",
   "metadata": {},
   "source": [
    "**6-9. Favorite Places:**   \n",
    "Make a dictionary called `favorite_places`. Think of three names to use as keys in the dictionary, and store one to three favorite places for each person. To make this exercise a bit more interesting, ask some friends to name a few of their favorite places. Loop through the dictionary, and print each person’s name and their favorite places."
   ]
  },
  {
   "cell_type": "code",
   "execution_count": 8,
   "metadata": {},
   "outputs": [
    {
     "name": "stdout",
     "output_type": "stream",
     "text": [
      "kennan's favorite places are:\n",
      "his room\n",
      "jail\n",
      "hazel's favorite places are:\n",
      "mesh\n",
      "therapy clinic \n",
      "jack's favorite places are:\n",
      "mcdonalds\n",
      "the train\n",
      "nearby cinema\n"
     ]
    }
   ],
   "source": [
    "# code\n",
    "favorite_places = {\n",
    "    'kennan': ['his room', 'jail'],\n",
    "    'hazel': ['mesh', 'therapy clinic '],\n",
    "    'jack': ['mcdonalds', 'the train', 'nearby cinema']\n",
    "}\n",
    "\n",
    "for person, places in favorite_places.items():\n",
    "    print(person + \"'s favorite places are:\")\n",
    "    for place in places:\n",
    "        print(place)"
   ]
  },
  {
   "attachments": {},
   "cell_type": "markdown",
   "metadata": {},
   "source": [
    "**6-10. Favorite Numbers:**   \n",
    "Modify your program from Exercise 6-2 so each person can have more than one favorite number. Then print each person’s name along with their favorite numbers."
   ]
  },
  {
   "cell_type": "code",
   "execution_count": 11,
   "metadata": {},
   "outputs": [
    {
     "name": "stdout",
     "output_type": "stream",
     "text": [
      "kenan's favorite numbers are: 3, 7, 12\n",
      "kennan's favorite numbers are: 8, 15, 24\n",
      "kennen's favorite numbers are: 2, 4, 6\n",
      "kannan's favorite numbers are: 11, 22, 33\n"
     ]
    }
   ],
   "source": [
    "# code\n",
    "favorite_numbers = {\n",
    "    'kenan': [3, 7, 12],\n",
    "    'kennan': [8, 15, 24],\n",
    "    'kennen': [2, 4, 6],\n",
    "    'kannan': [11, 22, 33],\n",
    "}\n",
    "\n",
    "# Print each person's name and their favorite numbers\n",
    "for name, nums in favorite_numbers.items():\n",
    "    print(f\"{name}'s favorite numbers are: {', '.join(str(num) for num in nums)}\")\n"
   ]
  },
  {
   "attachments": {},
   "cell_type": "markdown",
   "metadata": {},
   "source": [
    "**6-11. Cities:**   \n",
    "Make a dictionary called `cities`. Use the names of three cities as keys in your dictionary. Create a dictionary of information about each city and include the country that the city is in, its approximate population, and one fact about that city. The keys for each city’s dictionary should be something like country, population, and fact. Print the name of each city and all of the information you have stored about it."
   ]
  },
  {
   "cell_type": "code",
   "execution_count": null,
   "metadata": {},
   "outputs": [],
   "source": [
    "# code\n",
    "cities = {\n",
    "    \"New York\": {\n",
    "        \"country\": \"USA\",\n",
    "        \"population\": 8_336_817,\n",
    "        \"fact\": \"The Empire State Building has its own zip code.\"\n",
    "    },\n",
    "    \"Tokyo\": {\n",
    "        \"country\": \"Japan\",\n",
    "        \"population\": 13_515_271,\n",
    "        \"fact\": \"Tokyo is home to the world's busiest pedestrian crossing, Shibuya Crossing.\"\n",
    "    },\n",
    "    \"Paris\": {\n",
    "        \"country\": \"France\",\n",
    "        \"population\": 2_141_000,\n",
    "        \"fact\": \"Paris is nicknamed the City of Light because it was one of the first cities in the world to have street lighting.\"\n",
    "    }\n",
    "}\n",
    "# Print information about each city\n",
    "for city, city_info in cities.items():\n",
    "    print(f\"{city}:\")\n",
    "    print(f\"\\tCountry: {city_info['country']}\")\n",
    "    print(f\"\\tPopulation: {city_info['population']}\")\n",
    "    print(f\"\\tFact: {city_info['fact']}\")"
   ]
  }
 ],
 "metadata": {
  "kernelspec": {
   "display_name": "Python 3",
   "language": "python",
   "name": "python3"
  },
  "language_info": {
   "codemirror_mode": {
    "name": "ipython",
    "version": 3
   },
   "file_extension": ".py",
   "mimetype": "text/x-python",
   "name": "python",
   "nbconvert_exporter": "python",
   "pygments_lexer": "ipython3",
   "version": "3.10.10"
  },
  "orig_nbformat": 4,
  "vscode": {
   "interpreter": {
    "hash": "a93b6de8cfd74e77be02faa0aaaec4781685ea069679a608336306e47493dd76"
   }
  }
 },
 "nbformat": 4,
 "nbformat_minor": 2
}
